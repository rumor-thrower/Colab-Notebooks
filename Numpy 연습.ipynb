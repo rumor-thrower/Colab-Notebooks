{
  "nbformat": 4,
  "nbformat_minor": 0,
  "metadata": {
    "colab": {
      "provenance": [],
      "mount_file_id": "1hG98dhrAmOlCBIB9UH7jru8TvzlZZBgX",
      "authorship_tag": "ABX9TyP9Y6kbssmuPtyjndtL8j+D",
      "include_colab_link": true
    },
    "kernelspec": {
      "name": "python3",
      "display_name": "Python 3"
    },
    "language_info": {
      "name": "python"
    }
  },
  "cells": [
    {
      "cell_type": "markdown",
      "metadata": {
        "id": "view-in-github",
        "colab_type": "text"
      },
      "source": [
        "<a href=\"https://colab.research.google.com/github/rumor-thrower/KU-Summer-SW-AI-Camp/blob/main/Numpy%20%EC%97%B0%EC%8A%B5.ipynb\" target=\"_parent\"><img src=\"https://colab.research.google.com/assets/colab-badge.svg\" alt=\"Open In Colab\"/></a>"
      ]
    },
    {
      "cell_type": "code",
      "execution_count": 105,
      "metadata": {
        "id": "eeRgX7_rK5QO"
      },
      "outputs": [],
      "source": [
        "import numpy as np"
      ]
    },
    {
      "cell_type": "code",
      "source": [
        "a = [1, 2, 3]\n",
        "a"
      ],
      "metadata": {
        "id": "jIiMBX4SP-dJ",
        "colab": {
          "base_uri": "https://localhost:8080/"
        },
        "outputId": "5325ffeb-8962-484d-a6f4-0e11e254a159"
      },
      "execution_count": 106,
      "outputs": [
        {
          "output_type": "execute_result",
          "data": {
            "text/plain": [
              "[1, 2, 3]"
            ]
          },
          "metadata": {},
          "execution_count": 106
        }
      ]
    },
    {
      "cell_type": "code",
      "source": [
        "aa = list([1, 2, 3])\n",
        "aa"
      ],
      "metadata": {
        "colab": {
          "base_uri": "https://localhost:8080/"
        },
        "id": "rTb47otUby_M",
        "outputId": "cc3187d7-3cdf-47ee-f220-dc8576614244"
      },
      "execution_count": 107,
      "outputs": [
        {
          "output_type": "execute_result",
          "data": {
            "text/plain": [
              "[1, 2, 3]"
            ]
          },
          "metadata": {},
          "execution_count": 107
        }
      ]
    },
    {
      "cell_type": "code",
      "source": [
        "type(a)"
      ],
      "metadata": {
        "colab": {
          "base_uri": "https://localhost:8080/"
        },
        "id": "kkDy-kPkb858",
        "outputId": "f4d3f551-4ac1-4187-a311-746f6ff8215c"
      },
      "execution_count": 108,
      "outputs": [
        {
          "output_type": "execute_result",
          "data": {
            "text/plain": [
              "list"
            ]
          },
          "metadata": {},
          "execution_count": 108
        }
      ]
    },
    {
      "cell_type": "markdown",
      "source": [
        "# 값을 만드는 3가지 방법\n",
        "\n",
        "1. Literal (정해진 특수문자가 적다)\n",
        "2. Instance\n",
        "3. Factory Method"
      ],
      "metadata": {
        "id": "GuMFy-JIcCA9"
      }
    },
    {
      "cell_type": "code",
      "source": [
        "arr = np.array([1, 2, 3])\n",
        "arr"
      ],
      "metadata": {
        "colab": {
          "base_uri": "https://localhost:8080/"
        },
        "id": "EH-9KBr-b_A0",
        "outputId": "82642690-ac16-4be7-9b92-b8fc9c41723c"
      },
      "execution_count": 109,
      "outputs": [
        {
          "output_type": "execute_result",
          "data": {
            "text/plain": [
              "array([1, 2, 3])"
            ]
          },
          "metadata": {},
          "execution_count": 109
        }
      ]
    },
    {
      "cell_type": "code",
      "source": [
        "class A:\n",
        "    def __repr__(self):\n",
        "        return \"repr\"\n",
        "    def __str__(self):\n",
        "        return \"str\""
      ],
      "metadata": {
        "id": "JMD5ujRTlFK3"
      },
      "execution_count": 110,
      "outputs": []
    },
    {
      "cell_type": "code",
      "source": [
        "a = A()\n",
        "a\n",
        "# repr"
      ],
      "metadata": {
        "colab": {
          "base_uri": "https://localhost:8080/"
        },
        "id": "j-J4JypklYsB",
        "outputId": "a30367ef-793f-42ff-9d1a-f468e4a822ff"
      },
      "execution_count": 111,
      "outputs": [
        {
          "output_type": "execute_result",
          "data": {
            "text/plain": [
              "repr"
            ]
          },
          "metadata": {},
          "execution_count": 111
        }
      ]
    },
    {
      "cell_type": "code",
      "source": [
        "print(a)\n",
        "# str"
      ],
      "metadata": {
        "colab": {
          "base_uri": "https://localhost:8080/"
        },
        "id": "l6SUYONWlj0V",
        "outputId": "37cd66bd-88d7-4162-8113-6fb57cd046ff"
      },
      "execution_count": 112,
      "outputs": [
        {
          "output_type": "stream",
          "name": "stdout",
          "text": [
            "str\n"
          ]
        }
      ]
    },
    {
      "cell_type": "code",
      "source": [
        "type(arr)"
      ],
      "metadata": {
        "colab": {
          "base_uri": "https://localhost:8080/"
        },
        "id": "aQafCPdMcZQs",
        "outputId": "1b2d1680-adae-45e9-a521-26e02d5a5522"
      },
      "execution_count": 113,
      "outputs": [
        {
          "output_type": "execute_result",
          "data": {
            "text/plain": [
              "numpy.ndarray"
            ]
          },
          "metadata": {},
          "execution_count": 113
        }
      ]
    },
    {
      "cell_type": "code",
      "source": [
        "zarr = np.zeros(3)\n",
        "zarr"
      ],
      "metadata": {
        "colab": {
          "base_uri": "https://localhost:8080/"
        },
        "id": "YxIT4Ez7ca23",
        "outputId": "b6361211-33e4-4508-8936-bee6239fb06a"
      },
      "execution_count": 114,
      "outputs": [
        {
          "output_type": "execute_result",
          "data": {
            "text/plain": [
              "array([0., 0., 0.])"
            ]
          },
          "metadata": {},
          "execution_count": 114
        }
      ]
    },
    {
      "cell_type": "code",
      "source": [
        "narr = np.array([[1, 2], [3, 4]])\n",
        "print(narr)"
      ],
      "metadata": {
        "colab": {
          "base_uri": "https://localhost:8080/"
        },
        "id": "L0UtXaI6c42i",
        "outputId": "d848c774-25b7-469c-d8fc-efa44788d49f"
      },
      "execution_count": 115,
      "outputs": [
        {
          "output_type": "stream",
          "name": "stdout",
          "text": [
            "[[1 2]\n",
            " [3 4]]\n"
          ]
        }
      ]
    },
    {
      "cell_type": "code",
      "source": [
        "narr = np.array([[[1, 2, 3]], [[4, 5, 6]]])\n",
        "narr"
      ],
      "metadata": {
        "colab": {
          "base_uri": "https://localhost:8080/"
        },
        "id": "WqQgBz6IdX1h",
        "outputId": "8ecfd7d8-b5b4-4928-f001-c8182ca35e27"
      },
      "execution_count": 116,
      "outputs": [
        {
          "output_type": "execute_result",
          "data": {
            "text/plain": [
              "array([[[1, 2, 3]],\n",
              "\n",
              "       [[4, 5, 6]]])"
            ]
          },
          "metadata": {},
          "execution_count": 116
        }
      ]
    },
    {
      "cell_type": "code",
      "source": [
        "narr.shape"
      ],
      "metadata": {
        "colab": {
          "base_uri": "https://localhost:8080/"
        },
        "id": "5k1P3Rm2dsxM",
        "outputId": "b1c7b699-1d41-4bd5-ff46-f37e409b0b9c"
      },
      "execution_count": 117,
      "outputs": [
        {
          "output_type": "execute_result",
          "data": {
            "text/plain": [
              "(2, 1, 3)"
            ]
          },
          "metadata": {},
          "execution_count": 117
        }
      ]
    },
    {
      "cell_type": "code",
      "source": [
        "narr.dtype"
      ],
      "metadata": {
        "colab": {
          "base_uri": "https://localhost:8080/"
        },
        "id": "WK_uifQXeCMD",
        "outputId": "8eb10929-f372-42dd-9d61-50caea4e4b1b"
      },
      "execution_count": 118,
      "outputs": [
        {
          "output_type": "execute_result",
          "data": {
            "text/plain": [
              "dtype('int64')"
            ]
          },
          "metadata": {},
          "execution_count": 118
        }
      ]
    },
    {
      "cell_type": "markdown",
      "source": [
        "# Python에서 수를 표현하는 4가지 방법\n",
        "\n",
        "- 수의 최댓값은?"
      ],
      "metadata": {
        "id": "gxuIt7wdeWpG"
      }
    },
    {
      "cell_type": "code",
      "source": [
        "import sys\n",
        "\n",
        "sys.maxsize\n",
        "# 9223372036854775807"
      ],
      "metadata": {
        "colab": {
          "base_uri": "https://localhost:8080/"
        },
        "id": "b3em5NlFeTD-",
        "outputId": "c0215efd-4325-48af-a004-779c03ff6169"
      },
      "execution_count": 119,
      "outputs": [
        {
          "output_type": "execute_result",
          "data": {
            "text/plain": [
              "9223372036854775807"
            ]
          },
          "metadata": {},
          "execution_count": 119
        }
      ]
    },
    {
      "cell_type": "code",
      "source": [
        "print(sys.maxsize + 1)\n",
        "# 계산 가능, 단 메모리 추가 할당 필요!"
      ],
      "metadata": {
        "colab": {
          "base_uri": "https://localhost:8080/"
        },
        "id": "3PlBQ7Wyemag",
        "outputId": "2547c5cb-4d0d-431e-9eab-c999f971ae4c"
      },
      "execution_count": 120,
      "outputs": [
        {
          "output_type": "stream",
          "name": "stdout",
          "text": [
            "9223372036854775808\n"
          ]
        }
      ]
    },
    {
      "cell_type": "code",
      "source": [
        "sys.float_info"
      ],
      "metadata": {
        "colab": {
          "base_uri": "https://localhost:8080/"
        },
        "id": "6iVmnH2JgIU_",
        "outputId": "109fcf2a-8ab7-40b3-e1f6-d2295c8f29d8"
      },
      "execution_count": 121,
      "outputs": [
        {
          "output_type": "execute_result",
          "data": {
            "text/plain": [
              "sys.float_info(max=1.7976931348623157e+308, max_exp=1024, max_10_exp=308, min=2.2250738585072014e-308, min_exp=-1021, min_10_exp=-307, dig=15, mant_dig=53, epsilon=2.220446049250313e-16, radix=2, rounds=1)"
            ]
          },
          "metadata": {},
          "execution_count": 121
        }
      ]
    },
    {
      "cell_type": "code",
      "source": [
        "max_float = sys.float_info.max\n",
        "print(max_float == max_float + 1)\n",
        "# True"
      ],
      "metadata": {
        "colab": {
          "base_uri": "https://localhost:8080/"
        },
        "id": "2Xg8PMzCgTXJ",
        "outputId": "a0e3e7e0-4645-4e96-9c54-25e06173543b"
      },
      "execution_count": 122,
      "outputs": [
        {
          "output_type": "stream",
          "name": "stdout",
          "text": [
            "True\n"
          ]
        }
      ]
    },
    {
      "cell_type": "code",
      "source": [
        "print(0.1 + 0.1 + 0.1)\n",
        "# 0.3 아님! (float - 부동소수점은 근삿값 사용)\n",
        "# 0.30000000000000004"
      ],
      "metadata": {
        "colab": {
          "base_uri": "https://localhost:8080/"
        },
        "id": "dXeYa1kZe2fm",
        "outputId": "26620d04-291f-44e8-e31f-0155558aa749"
      },
      "execution_count": 123,
      "outputs": [
        {
          "output_type": "stream",
          "name": "stdout",
          "text": [
            "0.30000000000000004\n"
          ]
        }
      ]
    },
    {
      "cell_type": "markdown",
      "source": [
        "AI의 경사하강법은 정답이 아니라 근삿값을 빠르게 구하는 것이 목표, float 자료형 사용!"
      ],
      "metadata": {
        "id": "1l32VoM7f1oQ"
      }
    },
    {
      "cell_type": "code",
      "source": [
        "int(True)\n",
        "# 1"
      ],
      "metadata": {
        "colab": {
          "base_uri": "https://localhost:8080/"
        },
        "id": "ljEve8J-fvfs",
        "outputId": "19b065c8-794d-42f9-87f8-175d1ce8e34f"
      },
      "execution_count": 124,
      "outputs": [
        {
          "output_type": "execute_result",
          "data": {
            "text/plain": [
              "1"
            ]
          },
          "metadata": {},
          "execution_count": 124
        }
      ]
    },
    {
      "cell_type": "code",
      "source": [
        "int(False)\n",
        "# 0"
      ],
      "metadata": {
        "colab": {
          "base_uri": "https://localhost:8080/"
        },
        "id": "u-LLJGDNg3nx",
        "outputId": "e444806b-b549-4d11-e526-8bde6638e98c"
      },
      "execution_count": 125,
      "outputs": [
        {
          "output_type": "execute_result",
          "data": {
            "text/plain": [
              "0"
            ]
          },
          "metadata": {},
          "execution_count": 125
        }
      ]
    },
    {
      "cell_type": "markdown",
      "source": [
        "Python, 나아가 Numpy의 정수형은 오버플로 無!"
      ],
      "metadata": {
        "id": "zhITKrJKhibX"
      }
    },
    {
      "cell_type": "markdown",
      "source": [
        "# Python에서 값을 보는 2가지 방법\n",
        "\n",
        "1. repr (이름 호출)\n",
        "2. str (print 함수 호출)"
      ],
      "metadata": {
        "id": "tp4hJE9MmDVe"
      }
    },
    {
      "cell_type": "code",
      "source": [
        "import tensorflow as tf"
      ],
      "metadata": {
        "id": "EN409loXg6Oz"
      },
      "execution_count": 126,
      "outputs": []
    },
    {
      "cell_type": "code",
      "source": [
        "x = tf.constant([1, 2, 3])\n",
        "x\n",
        "# tf.Tensor([1 2 3], shape=(3,), dtype=int32)"
      ],
      "metadata": {
        "colab": {
          "base_uri": "https://localhost:8080/"
        },
        "id": "eUmwjCPClyxt",
        "outputId": "137c58db-3589-4685-8401-1b2db96f111a"
      },
      "execution_count": 127,
      "outputs": [
        {
          "output_type": "execute_result",
          "data": {
            "text/plain": [
              "<tf.Tensor: shape=(3,), dtype=int32, numpy=array([1, 2, 3], dtype=int32)>"
            ]
          },
          "metadata": {},
          "execution_count": 127
        }
      ]
    },
    {
      "cell_type": "code",
      "source": [
        "print(x)\n",
        "# tf.Tensor([1 2 3], shape=(3,), dtype=int32)"
      ],
      "metadata": {
        "colab": {
          "base_uri": "https://localhost:8080/"
        },
        "id": "Hp6OuQ7ll2fa",
        "outputId": "94c3dea4-82b4-4eef-85f4-6444eed97240"
      },
      "execution_count": 128,
      "outputs": [
        {
          "output_type": "stream",
          "name": "stdout",
          "text": [
            "tf.Tensor([1 2 3], shape=(3,), dtype=int32)\n"
          ]
        }
      ]
    },
    {
      "cell_type": "code",
      "source": [
        "arr = np.array([1, 2, 3])\n",
        "arr"
      ],
      "metadata": {
        "colab": {
          "base_uri": "https://localhost:8080/"
        },
        "id": "8pflrqHVmpJn",
        "outputId": "5c65bae4-3612-443b-8824-78ce2d93da96"
      },
      "execution_count": 129,
      "outputs": [
        {
          "output_type": "execute_result",
          "data": {
            "text/plain": [
              "array([1, 2, 3])"
            ]
          },
          "metadata": {},
          "execution_count": 129
        }
      ]
    },
    {
      "cell_type": "code",
      "source": [
        "print(arr)\n",
        "# [1 2 3]\n",
        "# List와 혼동 우려!"
      ],
      "metadata": {
        "colab": {
          "base_uri": "https://localhost:8080/"
        },
        "id": "taH8Qnfhmr3O",
        "outputId": "13c132c1-cbf0-4568-8525-511c3b936a08"
      },
      "execution_count": 130,
      "outputs": [
        {
          "output_type": "stream",
          "name": "stdout",
          "text": [
            "[1 2 3]\n"
          ]
        }
      ]
    },
    {
      "cell_type": "code",
      "source": [
        "arrX = np.array([1, 2, 3])\n",
        "arrY = np.array([2, 4, 6])\n",
        "\n",
        "arrX + arrY\n",
        "# array([3, 6, 9])"
      ],
      "metadata": {
        "colab": {
          "base_uri": "https://localhost:8080/"
        },
        "id": "HgiEp-WumyB8",
        "outputId": "864fa03d-4ddb-4f89-de1d-d1d12767b072"
      },
      "execution_count": 131,
      "outputs": [
        {
          "output_type": "execute_result",
          "data": {
            "text/plain": [
              "array([3, 6, 9])"
            ]
          },
          "metadata": {},
          "execution_count": 131
        }
      ]
    },
    {
      "cell_type": "code",
      "source": [
        "arr = np.array([1, 2, 3])\n",
        "arr + 10\n",
        "# array([11, 12, 13])\n",
        "# 자동 브로드캐스팅!"
      ],
      "metadata": {
        "colab": {
          "base_uri": "https://localhost:8080/"
        },
        "id": "bCENUzo2nrlQ",
        "outputId": "1678b9af-8fa4-4491-9341-f07c81c19f18"
      },
      "execution_count": 132,
      "outputs": [
        {
          "output_type": "execute_result",
          "data": {
            "text/plain": [
              "array([11, 12, 13])"
            ]
          },
          "metadata": {},
          "execution_count": 132
        }
      ]
    },
    {
      "cell_type": "code",
      "source": [
        "arrX = np.array([1, 2, 3])\n",
        "arrY = np.array([2, 4])\n",
        "\n",
        "arrX + arrY\n",
        "# ValueError: operands could not be broadcast together with shapes (3,) (2,)"
      ],
      "metadata": {
        "colab": {
          "base_uri": "https://localhost:8080/",
          "height": 200
        },
        "id": "ra2ZwQ8mnN58",
        "outputId": "9fe27407-6c24-4922-a7bd-1a9e5e3a741c"
      },
      "execution_count": 133,
      "outputs": [
        {
          "output_type": "error",
          "ename": "ValueError",
          "evalue": "operands could not be broadcast together with shapes (3,) (2,) ",
          "traceback": [
            "\u001b[0;31m---------------------------------------------------------------------------\u001b[0m",
            "\u001b[0;31mValueError\u001b[0m                                Traceback (most recent call last)",
            "\u001b[0;32m/tmp/ipython-input-133-4150090061.py\u001b[0m in \u001b[0;36m<cell line: 0>\u001b[0;34m()\u001b[0m\n\u001b[1;32m      2\u001b[0m \u001b[0marrY\u001b[0m \u001b[0;34m=\u001b[0m \u001b[0mnp\u001b[0m\u001b[0;34m.\u001b[0m\u001b[0marray\u001b[0m\u001b[0;34m(\u001b[0m\u001b[0;34m[\u001b[0m\u001b[0;36m2\u001b[0m\u001b[0;34m,\u001b[0m \u001b[0;36m4\u001b[0m\u001b[0;34m]\u001b[0m\u001b[0;34m)\u001b[0m\u001b[0;34m\u001b[0m\u001b[0;34m\u001b[0m\u001b[0m\n\u001b[1;32m      3\u001b[0m \u001b[0;34m\u001b[0m\u001b[0m\n\u001b[0;32m----> 4\u001b[0;31m \u001b[0marrX\u001b[0m \u001b[0;34m+\u001b[0m \u001b[0marrY\u001b[0m\u001b[0;34m\u001b[0m\u001b[0;34m\u001b[0m\u001b[0m\n\u001b[0m\u001b[1;32m      5\u001b[0m \u001b[0;31m# ValueError: operands could not be broadcast together with shapes (3,) (2,)\u001b[0m\u001b[0;34m\u001b[0m\u001b[0;34m\u001b[0m\u001b[0m\n",
            "\u001b[0;31mValueError\u001b[0m: operands could not be broadcast together with shapes (3,) (2,) "
          ]
        }
      ]
    },
    {
      "cell_type": "code",
      "source": [
        "arr = np.array([[1, 2]])\n",
        "arr2 = np.array([[[1], [2]]])\n",
        "\n",
        "print(arr.shape, arr2.shape)\n",
        "# (1, 2) (1, 2, 1)"
      ],
      "metadata": {
        "id": "aGbeLnOKoJ5j"
      },
      "execution_count": null,
      "outputs": []
    },
    {
      "cell_type": "code",
      "source": [
        "arr + arr2\n",
        "# array([[[2, 3],\n",
        "#           [3, 4]]])"
      ],
      "metadata": {
        "id": "fSgjKbRcob0u"
      },
      "execution_count": null,
      "outputs": []
    },
    {
      "cell_type": "markdown",
      "source": [
        "브로드캐스팅은 데이터 분석에서 자주 활용!"
      ],
      "metadata": {
        "id": "CMNnkh41oujS"
      }
    },
    {
      "cell_type": "markdown",
      "source": [
        "Python은 연산자가 내부 메소드로 실행!"
      ],
      "metadata": {
        "id": "uRjoE6-jpp0U"
      }
    },
    {
      "cell_type": "code",
      "source": [
        "print(1 + 1 == (1).__add__(1))\n",
        "# True"
      ],
      "metadata": {
        "id": "a-HAnEqcoysA"
      },
      "execution_count": null,
      "outputs": []
    },
    {
      "cell_type": "markdown",
      "source": [
        "- 연산자 오버로딩: 연산자 기능 변경\n",
        "- 다형성: 다른 자료형, 다른 기능"
      ],
      "metadata": {
        "id": "BxYBwCRgqjMl"
      }
    },
    {
      "cell_type": "code",
      "source": [
        "setA = {1, 2, 3}\n",
        "setB = {3, 4, 5}\n",
        "\n",
        "setA & setB\n",
        "# {3}"
      ],
      "metadata": {
        "id": "YecK1fwhpuvG"
      },
      "execution_count": null,
      "outputs": []
    },
    {
      "cell_type": "code",
      "source": [
        "setA - setB\n",
        "# {1, 2}"
      ],
      "metadata": {
        "id": "P3QHpmhurSmc"
      },
      "execution_count": null,
      "outputs": []
    },
    {
      "cell_type": "markdown",
      "source": [
        "- **행렬 곱**은 내적 연산들로 구성\n",
        "- **내적**: 주변 환경을 고려해서 하나의 값으로 선형 축약\n",
        "- **축약**(Reduction): 하나의 값으로 줄이기"
      ],
      "metadata": {
        "id": "TnoRWwBCstyc"
      }
    },
    {
      "cell_type": "code",
      "source": [
        "arrX = np.array([1, 2, 3])\n",
        "arrY = np.array([2, 4, 6])\n",
        "\n",
        "arrX * arrY"
      ],
      "metadata": {
        "id": "DaSQzQ5RrX0F"
      },
      "execution_count": null,
      "outputs": []
    },
    {
      "cell_type": "code",
      "source": [
        "np.array?"
      ],
      "metadata": {
        "id": "AGMZU1jbzu_3"
      },
      "execution_count": 141,
      "outputs": []
    },
    {
      "cell_type": "code",
      "source": [
        "from scipy import signal"
      ],
      "metadata": {
        "id": "jIIQyIirz0bD"
      },
      "execution_count": null,
      "outputs": []
    },
    {
      "cell_type": "code",
      "source": [
        "arrX = np.array([1, 2, 3, 4, 5])\n",
        "arrY = np.array([-1, 0, 1])"
      ],
      "metadata": {
        "id": "Mbht12o7z5ny"
      },
      "execution_count": null,
      "outputs": []
    },
    {
      "cell_type": "code",
      "source": [
        "signal.correlate?"
      ],
      "metadata": {
        "id": "pii6bskb0BjS"
      },
      "execution_count": null,
      "outputs": []
    },
    {
      "cell_type": "code",
      "source": [
        "signal.correlate(arrX, arrY, \"valid\")"
      ],
      "metadata": {
        "id": "9xoAPzgS0LpQ"
      },
      "execution_count": null,
      "outputs": []
    },
    {
      "cell_type": "markdown",
      "source": [
        "```\n",
        "1, 2, 3, 4, 5\n",
        "        -1, 0, 1\n",
        "```"
      ],
      "metadata": {
        "id": "1FUvbyhT0hdX"
      }
    },
    {
      "cell_type": "code",
      "source": [
        "signal.correlate(arrX, arrY, \"full\")"
      ],
      "metadata": {
        "id": "U4wxdEn90gpr"
      },
      "execution_count": null,
      "outputs": []
    },
    {
      "cell_type": "markdown",
      "source": [
        "```\n",
        "1, 2, 3, 4, 5\n",
        "0, 0, -1, 0, 1\n",
        "```"
      ],
      "metadata": {
        "id": "cZqsxeO905U6"
      }
    },
    {
      "cell_type": "code",
      "source": [
        "tu = 1, 2\n",
        "print(tu)\n",
        "# (1, 2)"
      ],
      "metadata": {
        "id": "cxo-9-w-08YR"
      },
      "execution_count": null,
      "outputs": []
    },
    {
      "cell_type": "code",
      "source": [
        "tu = 1,\n",
        "print(tu)\n",
        "# (1,)"
      ],
      "metadata": {
        "colab": {
          "base_uri": "https://localhost:8080/"
        },
        "id": "Pn6bwWtz-Yrv",
        "outputId": "bd3c7bf9-dbc4-4591-81db-f5ffcd37ae63"
      },
      "execution_count": 134,
      "outputs": [
        {
          "output_type": "stream",
          "name": "stdout",
          "text": [
            "(1,)\n"
          ]
        }
      ]
    },
    {
      "cell_type": "code",
      "source": [
        "i = 1\n",
        "print(i)\n",
        "# 1"
      ],
      "metadata": {
        "colab": {
          "base_uri": "https://localhost:8080/"
        },
        "id": "pNl9D2bw-h8m",
        "outputId": "42cce150-6647-4e10-b30f-1be7b3c85297"
      },
      "execution_count": 135,
      "outputs": [
        {
          "output_type": "stream",
          "name": "stdout",
          "text": [
            "1\n"
          ]
        }
      ]
    },
    {
      "cell_type": "code",
      "source": [
        "i = int(1)\n",
        "print(i)\n",
        "# 1"
      ],
      "metadata": {
        "colab": {
          "base_uri": "https://localhost:8080/"
        },
        "id": "s3E407ko-2v9",
        "outputId": "a39d4cf4-b995-4382-d04f-9bc5daa844fe"
      },
      "execution_count": 136,
      "outputs": [
        {
          "output_type": "stream",
          "name": "stdout",
          "text": [
            "1\n"
          ]
        }
      ]
    },
    {
      "cell_type": "code",
      "source": [
        "fst, snd = 1, 2\n",
        "print(fst, snd)\n",
        "# 1 2"
      ],
      "metadata": {
        "colab": {
          "base_uri": "https://localhost:8080/"
        },
        "id": "QVpIXmu1-5RC",
        "outputId": "44cdd87e-e03e-497b-9794-e77ba78ab241"
      },
      "execution_count": 137,
      "outputs": [
        {
          "output_type": "stream",
          "name": "stdout",
          "text": [
            "1 2\n"
          ]
        }
      ]
    },
    {
      "cell_type": "code",
      "source": [
        "fst, snd = 1, 2, 3\n",
        "# ValueError: too many values to unpack (expected 2)"
      ],
      "metadata": {
        "colab": {
          "base_uri": "https://localhost:8080/",
          "height": 164
        },
        "id": "NsoZz0X3_Rr9",
        "outputId": "68a2f6e4-7c36-437e-ac19-3173a5d1ea76"
      },
      "execution_count": 138,
      "outputs": [
        {
          "output_type": "error",
          "ename": "ValueError",
          "evalue": "too many values to unpack (expected 2)",
          "traceback": [
            "\u001b[0;31m---------------------------------------------------------------------------\u001b[0m",
            "\u001b[0;31mValueError\u001b[0m                                Traceback (most recent call last)",
            "\u001b[0;32m/tmp/ipython-input-138-3795661893.py\u001b[0m in \u001b[0;36m<cell line: 0>\u001b[0;34m()\u001b[0m\n\u001b[0;32m----> 1\u001b[0;31m \u001b[0mfst\u001b[0m\u001b[0;34m,\u001b[0m \u001b[0msnd\u001b[0m \u001b[0;34m=\u001b[0m \u001b[0;36m1\u001b[0m\u001b[0;34m,\u001b[0m \u001b[0;36m2\u001b[0m\u001b[0;34m,\u001b[0m \u001b[0;36m3\u001b[0m\u001b[0;34m\u001b[0m\u001b[0;34m\u001b[0m\u001b[0m\n\u001b[0m\u001b[1;32m      2\u001b[0m \u001b[0;31m# ValueError: too many values to unpack (expected 2)\u001b[0m\u001b[0;34m\u001b[0m\u001b[0;34m\u001b[0m\u001b[0m\n",
            "\u001b[0;31mValueError\u001b[0m: too many values to unpack (expected 2)"
          ]
        }
      ]
    },
    {
      "cell_type": "code",
      "source": [
        "fst, *rest = 1, 2, 3\n",
        "print(fst, rest)\n",
        "# 1 [2, 3]"
      ],
      "metadata": {
        "id": "r_nrCm5iAJho"
      },
      "execution_count": null,
      "outputs": []
    },
    {
      "cell_type": "code",
      "source": [
        "print(*rest)\n",
        "# 2 3"
      ],
      "metadata": {
        "id": "BE_Pw7X_ARGK"
      },
      "execution_count": null,
      "outputs": []
    },
    {
      "cell_type": "markdown",
      "source": [
        "> NumPy 배열과 tf.Tensor의 가장 확연한 차이는 다음과 같습니다:\n",
        "> - 텐서는 불변성(immutable)을 가집니다."
      ],
      "metadata": {
        "id": "VEfO0-rs_x85"
      }
    },
    {
      "cell_type": "markdown",
      "source": [
        "## 얕은 복사"
      ],
      "metadata": {
        "id": "mePxGxwEAlLF"
      }
    },
    {
      "cell_type": "code",
      "source": [
        "li = [1, 2, 3]\n",
        "copy = li[:]\n",
        "print(copy)\n",
        "# [1, 2, 3]"
      ],
      "metadata": {
        "colab": {
          "base_uri": "https://localhost:8080/"
        },
        "id": "wfbZJtQD_ZrE",
        "outputId": "5621ded7-7996-499c-bf65-2509189c268e"
      },
      "execution_count": 139,
      "outputs": [
        {
          "output_type": "stream",
          "name": "stdout",
          "text": [
            "[1, 2, 3]\n"
          ]
        }
      ]
    },
    {
      "cell_type": "code",
      "source": [
        "copy.append(4)\n",
        "print(copy)\n",
        "# [1, 2, 3, 4]\n",
        "print(li)\n",
        "# [1, 2, 3]\n",
        "# 그대로(얕은 복사)!"
      ],
      "metadata": {
        "colab": {
          "base_uri": "https://localhost:8080/"
        },
        "id": "v8UeZIOPAw-C",
        "outputId": "ce32987c-618a-49a3-f504-135d8872d0aa"
      },
      "execution_count": 140,
      "outputs": [
        {
          "output_type": "stream",
          "name": "stdout",
          "text": [
            "[1, 2, 3, 4]\n",
            "[1, 2, 3]\n"
          ]
        }
      ]
    },
    {
      "cell_type": "code",
      "source": [
        "arr3d = np.arange(24).reshape(4, 6)\n",
        "arr3d"
      ],
      "metadata": {
        "colab": {
          "base_uri": "https://localhost:8080/"
        },
        "id": "CPEy8y7zBJmZ",
        "outputId": "9c746461-0717-4ab5-f5a0-fc94eeee9739"
      },
      "execution_count": 165,
      "outputs": [
        {
          "output_type": "execute_result",
          "data": {
            "text/plain": [
              "array([[ 0,  1,  2,  3,  4,  5],\n",
              "       [ 6,  7,  8,  9, 10, 11],\n",
              "       [12, 13, 14, 15, 16, 17],\n",
              "       [18, 19, 20, 21, 22, 23]])"
            ]
          },
          "metadata": {},
          "execution_count": 165
        }
      ]
    },
    {
      "cell_type": "code",
      "source": [
        "arr3d[1][1]\n",
        "# np.int64(7)"
      ],
      "metadata": {
        "colab": {
          "base_uri": "https://localhost:8080/"
        },
        "id": "4EptlRh0B1np",
        "outputId": "234a6b32-6784-4792-f73e-977f275f9ba1"
      },
      "execution_count": 166,
      "outputs": [
        {
          "output_type": "execute_result",
          "data": {
            "text/plain": [
              "np.int64(7)"
            ]
          },
          "metadata": {},
          "execution_count": 166
        }
      ]
    },
    {
      "cell_type": "code",
      "source": [
        "arr3d[1, 1]\n",
        "# np.int64(7)"
      ],
      "metadata": {
        "colab": {
          "base_uri": "https://localhost:8080/"
        },
        "id": "UQA9GljvEI4R",
        "outputId": "4ff3acf2-fb4c-4118-fb24-461d4151e4a8"
      },
      "execution_count": 167,
      "outputs": [
        {
          "output_type": "execute_result",
          "data": {
            "text/plain": [
              "np.int64(7)"
            ]
          },
          "metadata": {},
          "execution_count": 167
        }
      ]
    },
    {
      "cell_type": "code",
      "source": [
        "arr = np.array([1, 2, 3])\n",
        "arr\n",
        "# array([1, 2, 3])"
      ],
      "metadata": {
        "colab": {
          "base_uri": "https://localhost:8080/"
        },
        "id": "xdyFrmg3B3-u",
        "outputId": "d2d542d3-ca2e-4a7a-da05-828cedca6367"
      },
      "execution_count": 158,
      "outputs": [
        {
          "output_type": "execute_result",
          "data": {
            "text/plain": [
              "array([1, 2, 3])"
            ]
          },
          "metadata": {},
          "execution_count": 158
        }
      ]
    },
    {
      "cell_type": "code",
      "source": [
        "arr[0]\n",
        "# np.int64(1)\n",
        "# 인덱싱은 차원을 1 감소(2 -> 1)!"
      ],
      "metadata": {
        "colab": {
          "base_uri": "https://localhost:8080/"
        },
        "id": "PZ8q6NsjCMSH",
        "outputId": "800b1e9a-c7d2-4ce7-af6d-d371290ee406"
      },
      "execution_count": 148,
      "outputs": [
        {
          "output_type": "execute_result",
          "data": {
            "text/plain": [
              "np.int64(1)"
            ]
          },
          "metadata": {},
          "execution_count": 148
        }
      ]
    },
    {
      "cell_type": "markdown",
      "source": [
        "None 인덱싱은 오히려 차원을 1 증가!"
      ],
      "metadata": {
        "id": "KHHT47EZFXgW"
      }
    },
    {
      "cell_type": "code",
      "source": [
        "arr[None]\n",
        "# array([[1, 2, 3]])"
      ],
      "metadata": {
        "colab": {
          "base_uri": "https://localhost:8080/"
        },
        "id": "cfQ9RbsVEdz7",
        "outputId": "d1a942ee-b7c2-4c6c-aad9-40b789a00f41"
      },
      "execution_count": 172,
      "outputs": [
        {
          "output_type": "execute_result",
          "data": {
            "text/plain": [
              "array([[1, 2, 3]])"
            ]
          },
          "metadata": {},
          "execution_count": 172
        }
      ]
    },
    {
      "cell_type": "markdown",
      "source": [
        "### 3차원 배열이니 ':' 2개 필요 (위에선 생략)"
      ],
      "metadata": {
        "id": "imeFP4lPFui6"
      }
    },
    {
      "cell_type": "code",
      "source": [
        "arr[None : :]\n",
        "# array([[1, 2, 3]])"
      ],
      "metadata": {
        "colab": {
          "base_uri": "https://localhost:8080/"
        },
        "id": "UWiavTZKFrLL",
        "outputId": "05d44653-839e-48c2-eca5-def0fcd7e052"
      },
      "execution_count": 173,
      "outputs": [
        {
          "output_type": "execute_result",
          "data": {
            "text/plain": [
              "array([1, 2, 3])"
            ]
          },
          "metadata": {},
          "execution_count": 173
        }
      ]
    },
    {
      "cell_type": "code",
      "source": [
        "arr[ : None :]\n",
        "# array([[1, 2, 3]])"
      ],
      "metadata": {
        "colab": {
          "base_uri": "https://localhost:8080/"
        },
        "id": "u-cEI0XXGK7o",
        "outputId": "d97f416b-f54b-4f2b-a4f1-f6d891504727"
      },
      "execution_count": 174,
      "outputs": [
        {
          "output_type": "execute_result",
          "data": {
            "text/plain": [
              "array([1, 2, 3])"
            ]
          },
          "metadata": {},
          "execution_count": 174
        }
      ]
    },
    {
      "cell_type": "code",
      "source": [
        "arr[ : : None]\n",
        "# array([[1, 2, 3]])"
      ],
      "metadata": {
        "colab": {
          "base_uri": "https://localhost:8080/"
        },
        "id": "540HUEl3GOvc",
        "outputId": "df4f0095-a5be-4302-fe64-5af4710f2588"
      },
      "execution_count": 175,
      "outputs": [
        {
          "output_type": "execute_result",
          "data": {
            "text/plain": [
              "array([1, 2, 3])"
            ]
          },
          "metadata": {},
          "execution_count": 175
        }
      ]
    },
    {
      "cell_type": "markdown",
      "source": [
        "### ... 으로 축약 가능"
      ],
      "metadata": {
        "id": "OUdDHgOwG-Pa"
      }
    },
    {
      "cell_type": "code",
      "source": [
        "arr[None, ...]\n",
        "# array([[1, 2, 3]])"
      ],
      "metadata": {
        "colab": {
          "base_uri": "https://localhost:8080/"
        },
        "id": "Ax95P-HNG3V_",
        "outputId": "07d0277c-41c4-4d2c-bd21-1368cd8cc6ac"
      },
      "execution_count": 176,
      "outputs": [
        {
          "output_type": "execute_result",
          "data": {
            "text/plain": [
              "array([[1, 2, 3]])"
            ]
          },
          "metadata": {},
          "execution_count": 176
        }
      ]
    },
    {
      "cell_type": "markdown",
      "source": [
        "## 불리언 인덱싱"
      ],
      "metadata": {
        "id": "MYHXsGLKDvVf"
      }
    },
    {
      "cell_type": "code",
      "source": [
        "arr > 1\n",
        "# array([False,  True,  True])"
      ],
      "metadata": {
        "colab": {
          "base_uri": "https://localhost:8080/"
        },
        "id": "QVnF9JLYCUV-",
        "outputId": "96e4ac38-52ab-49f6-a209-0ae01a91e87e"
      },
      "execution_count": 177,
      "outputs": [
        {
          "output_type": "execute_result",
          "data": {
            "text/plain": [
              "array([False,  True,  True])"
            ]
          },
          "metadata": {},
          "execution_count": 177
        }
      ]
    }
  ]
}